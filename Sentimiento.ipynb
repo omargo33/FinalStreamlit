{
 "cells": [
  {
   "cell_type": "markdown",
   "id": "23de01f3",
   "metadata": {},
   "source": [
    "# Analisis de Sentimientos con Redes Neuronales\n",
    "\n",
    "Basado en el proyecto de redes neuronales de la diabetes visto en clases.\n",
    "\n",
    "Fecha: 2025-09-20\n",
    "\n",
    "Author Omar Velez\n",
    "\n",
    "### 🚀 Idea Fuerza: \n",
    "\n",
    "**Se desarrolla una red neuronal, entrenada con mensajes y que clasifica la polaridad emocional para comprender el sentimiento de un mensaje de texto.**"
   ]
  },
  {
   "cell_type": "markdown",
   "id": "f6bab914",
   "metadata": {},
   "source": [
    "# Motivación\n",
    "\n",
    "La motivación para realizar es proyecto es de un hecho que escuche recientemente en un programa radial [Primera Plana](https://youtu.be/3mmv8YDSfVk?si=vjmshyQaMoen9wgs&t=1651), en donde se presentaba el análisis del clima social expresado en las redes sociales.\n",
    "\n",
    "\n",
    "![image](./Documentos/hq720.jpg)\n",
    "\n",
    "\n",
    "A partir de este punto me queda la duda de como estas empresas [Golden Social Suite](https://www.gosocialsuite.com/es) de México, brinda el servicio y si este podría ser repetible o como se haría el mismo.\n",
    "\n",
    "Además, preparar un demo con Redes Neuronales Vs. Inteligencia Artificial, como parte de la entrega final del módulo de **Fundamentos de Inteligencia Artificial**"
   ]
  },
  {
   "cell_type": "markdown",
   "id": "3c9913c0",
   "metadata": {},
   "source": [
    "### Sitios de Referencia\n",
    "\n",
    "- [💌 Análisis de Sentimientos con IA](https://omargo33-finalstreamlit-modelo-sentimientos-app-bnuiha.streamlit.app/)\n",
    "- [Calculadora de token](https://www.jotform.com/es/ai/token-calculator/)\n",
    "- [Natural Languaje Toolkit](https://www.nltk.org/)\n",
    "- [Mi Git](https://github.com/omargo33/FinalStreamlit)\n",
    "- [Deepseek Plataform](https://platform.deepseek.com/usage)"
   ]
  },
  {
   "cell_type": "code",
   "execution_count": null,
   "id": "37111208",
   "metadata": {},
   "outputs": [
    {
     "name": "stdout",
     "output_type": "stream",
     "text": [
      "/bin/bash: línea 1: fg: no hay control de trabajos\n"
     ]
    }
   ],
   "source": [
    "# Librerías necesarias\n",
    "!%pip install pandas matplotlib seaborn scikit-learn tensorflow nltk wordcloud"
   ]
  },
  {
   "cell_type": "code",
   "execution_count": 27,
   "id": "589f9b1c",
   "metadata": {},
   "outputs": [],
   "source": [
    "import matplotlib.pyplot as plt\n",
    "import nltk\n",
    "import numpy as np\n",
    "import pandas as pd\n",
    "## import re\n",
    "import tensorflow as tf\n",
    "\n",
    "from nltk.corpus import stopwords\n",
    "from sklearn.model_selection import train_test_split\n",
    "from sklearn.preprocessing import LabelEncoder\n",
    "from tensorflow.keras.layers import Dense, Embedding, LSTM, Dropout\n",
    "from tensorflow.keras.models import Sequential\n",
    "from tensorflow.keras.preprocessing.sequence import pad_sequences\n",
    "from tensorflow.keras.preprocessing.text import Tokenizer"
   ]
  },
  {
   "cell_type": "markdown",
   "id": "e935e7a6",
   "metadata": {},
   "source": [
    "## ⚡ Descargar recursos de NLTK\n",
    "\n",
    "> Kit de herramientas de lenguaje natural\n",
    ">NLTK es una plataforma líder para crear programas Python que trabajan con datos de lenguaje humano. Ofrece interfaces fáciles de usar para más de 50 corpus y recursos léxicos como WordNet, además de un conjunto de bibliotecas de procesamiento de texto para clasificación, tokenización, lematización, etiquetado, análisis sintáctico y razonamiento semántico, contenedores para bibliotecas de PLN de alto rendimiento y un foro de discusión activo.> obtenido desde el sitio oficial del API"
   ]
  },
  {
   "cell_type": "code",
   "execution_count": 28,
   "id": "de9020ba",
   "metadata": {},
   "outputs": [
    {
     "name": "stdout",
     "output_type": "stream",
     "text": [
      "Dataset creado:\n",
      "                              texto sentimiento\n",
      "0       Me encanta este día soleado    positivo\n",
      "1  Estoy muy triste por lo que pasó    negativo\n",
      "2   ¡Qué alegría tan grande siento!    positivo\n",
      "3               Esto me enoja mucho    negativo\n",
      "4      Me siento neutro al respecto      neutro\n"
     ]
    },
    {
     "name": "stderr",
     "output_type": "stream",
     "text": [
      "[nltk_data] Downloading package stopwords to /home/ovelez/nltk_data...\n",
      "[nltk_data]   Package stopwords is already up-to-date!\n"
     ]
    },
    {
     "data": {
      "image/png": "[encoded data removed]",
      "text/plain": [
       "<Figure size 800x600 with 1 Axes>"
      ]
     },
     "metadata": {},
     "output_type": "display_data"
    }
   ],
   "source": [
    "nltk.download(\"stopwords\")\n",
    "\n",
    "#\n",
    "# Crear un dataset de ejemplo de análisis de sentimientos, se usa un ejemplo para ser publicado\n",
    "data = {\n",
    "    \"texto\": [\n",
    "        \"Me encanta este día soleado\",\n",
    "        \"Estoy muy triste por lo que pasó\",\n",
    "        \"¡Qué alegría tan grande siento!\",\n",
    "        \"Esto me enoja mucho\",\n",
    "        \"Me siento neutro al respecto\",\n",
    "        \"Es un día hermoso para estar vivo\",\n",
    "        \"Odio cuando llueve tanto\",\n",
    "        \"Me da igual lo que pase\",\n",
    "        \"Estoy emocionado por el viaje\",\n",
    "        \"Qué aburrido es este lugar\",\n",
    "        \"Amo pasar tiempo con mi familia\",\n",
    "        \"Me entristece ver esto\",\n",
    "        \"Es increíblemente fantástico\",\n",
    "        \"No me gusta nada esto\",\n",
    "        \"Está bien, supongo\",\n",
    "        \"Este poema me llena de felicidad\",\n",
    "        \"Las palabras duelen como espinas\",\n",
    "        \"Siento paz en mi corazón\",\n",
    "        \"La ira consume mi alma\",\n",
    "        \"No me importa lo que pase\",\n",
    "        \"Este poema me llena de alegría como el sol de la mañana\",\n",
    "        \"Las palabras cortantes hieren mi alma profundamente\",\n",
    "        \"Tengo poca suerte\",\n",
    "        \"Todo me parece igual hoy\"\n",
    "    ],\n",
    "    \"sentimiento\": [\n",
    "        \"positivo\",\n",
    "        \"negativo\",\n",
    "        \"positivo\",\n",
    "        \"negativo\",\n",
    "        \"neutro\",\n",
    "        \"positivo\",\n",
    "        \"negativo\",\n",
    "        \"neutro\",\n",
    "        \"positivo\",\n",
    "        \"negativo\",\n",
    "        \"positivo\",\n",
    "        \"negativo\",\n",
    "        \"positivo\",\n",
    "        \"negativo\",\n",
    "        \"neutro\",\n",
    "        \"positivo\",\n",
    "        \"negativo\",\n",
    "        \"positivo\",\n",
    "        \"negativo\",\n",
    "        \"negativo\",\n",
    "        \"positivo\",\n",
    "        \"negativo\",\n",
    "        \"negativo\",        \n",
    "        \"neutro\",\n",
    "    ],\n",
    "}\n",
    "\n",
    "#\n",
    "# Instanciamos un dataframe\n",
    "sentimientos_df = pd.DataFrame(data)\n",
    "print(\"Dataset creado:\")\n",
    "print(sentimientos_df.head())\n",
    "\n",
    "# Visualizar distribución de sentimientos\n",
    "plt.figure(figsize=(8, 6))\n",
    "sentimientos_df[\"sentimiento\"].value_counts().plot(kind=\"bar\")\n",
    "plt.title(\"Distribución de Sentimientos\")\n",
    "plt.xlabel(\"Sentimiento\")\n",
    "plt.ylabel(\"Cantidad\")\n",
    "plt.xticks(rotation=45)\n",
    "plt.show()\n"
   ]
  },
  {
   "cell_type": "markdown",
   "id": "872b68ae",
   "metadata": {},
   "source": [
    "### Preprocesamiento de texto\n",
    "\n",
    "Funcion de procesamiento de texto y normaliza un poco el texto para que sea mas estable la consulta"
   ]
  },
  {
   "cell_type": "code",
   "execution_count": 29,
   "id": "5937f10d",
   "metadata": {},
   "outputs": [
    {
     "name": "stdout",
     "output_type": "stream",
     "text": [
      "Texto limpio y etiquetas codificadas:\n",
      "                       texto_limpio sentimiento  sentimiento_encoded\n",
      "0       me encanta este día soleado    positivo                    2\n",
      "1  estoy muy triste por lo que pasó    negativo                    0\n",
      "2     qué alegría tan grande siento    positivo                    2\n",
      "3               esto me enoja mucho    negativo                    0\n",
      "4      me siento neutro al respecto      neutro                    1\n",
      "\n",
      "Mapeo de etiquetas: {'negativo': np.int64(0), 'neutro': np.int64(1), 'positivo': np.int64(2)}\n"
     ]
    }
   ],
   "source": [
    "def limpiar_texto(texto):\n",
    "    \"\"\"Función para limpiar y preprocesar el texto\"\"\"\n",
    "    # Convertir a minúsculas\n",
    "    texto = texto.lower()\n",
    "\n",
    "    # Eliminar caracteres especiales y números\n",
    "    texto = re.sub(r\"[^a-záéíóúüñ\\s]\", \"\", texto)\n",
    "\n",
    "    # Eliminar espacios extra\n",
    "    texto = \" \".join(texto.split())\n",
    "\n",
    "    return texto\n",
    "\n",
    "\n",
    "# Aplicar limpieza de texto\n",
    "sentimientos_df[\"texto_limpio\"] = sentimientos_df[\"texto\"].apply(limpiar_texto)\n",
    "\n",
    "# Codificar etiquetas de sentimiento\n",
    "label_encoder = LabelEncoder()\n",
    "sentimientos_df[\"sentimiento_encoded\"] = label_encoder.fit_transform(\n",
    "    sentimientos_df[\"sentimiento\"]\n",
    ")\n",
    "\n",
    "print(\"Texto limpio y etiquetas codificadas:\")\n",
    "print(sentimientos_df[[\"texto_limpio\", \"sentimiento\", \"sentimiento_encoded\"]].head())\n",
    "\n",
    "# Mapeo de etiquetas\n",
    "label_map = dict(\n",
    "    zip(label_encoder.classes_, label_encoder.transform(label_encoder.classes_))\n",
    ")\n",
    "print(f\"\\nMapeo de etiquetas: {label_map}\")"
   ]
  },
  {
   "cell_type": "markdown",
   "id": "9cc9cd36",
   "metadata": {},
   "source": [
    "### Tokenización y secuencias\n",
    "\n",
    "Configuración para tokenización"
   ]
  },
  {
   "cell_type": "code",
   "execution_count": 30,
   "id": "0f3495e2",
   "metadata": {},
   "outputs": [
    {
     "name": "stdout",
     "output_type": "stream",
     "text": [
      "Forma de X después del padding: (24, 50)\n",
      "Ejemplo de secuencia: [ 2 27  3 11 28  0  0  0  0  0  0  0  0  0  0  0  0  0  0  0  0  0  0  0\n",
      "  0  0  0  0  0  0  0  0  0  0  0  0  0  0  0  0  0  0  0  0  0  0  0  0\n",
      "  0  0]\n",
      "Forma de X: (24, 50)\n",
      "Forma de y: (24, 3)\n"
     ]
    }
   ],
   "source": [
    "MAX_WORDS = 1000  # Vocabulario máximo\n",
    "MAX_SEQUENCE_LENGTH = 50  # Longitud máxima de secuencia\n",
    "\n",
    "# Tokenizer\n",
    "tokenizer = Tokenizer(num_words=MAX_WORDS, oov_token=\"<OOV>\")\n",
    "tokenizer.fit_on_texts(sentimientos_df[\"texto_limpio\"])\n",
    "\n",
    "# Convertir texto a secuencias numéricas\n",
    "sequences = tokenizer.texts_to_sequences(sentimientos_df[\"texto_limpio\"])\n",
    "\n",
    "# Padding para que todas las secuencias tengan la misma longitud\n",
    "X_padded = pad_sequences(sequences, maxlen=MAX_SEQUENCE_LENGTH, padding=\"post\")\n",
    "\n",
    "print(f\"Forma de X después del padding: {X_padded.shape}\")\n",
    "print(f\"Ejemplo de secuencia: {X_padded[0]}\")\n",
    "\n",
    "# Preparar variables X e y\n",
    "X_sentimientos = X_padded\n",
    "y_sentimientos = tf.keras.utils.to_categorical(\n",
    "    sentimientos_df[\"sentimiento_encoded\"], num_classes=3\n",
    ")\n",
    "\n",
    "print(f\"Forma de X: {X_sentimientos.shape}\")\n",
    "print(f\"Forma de y: {y_sentimientos.shape}\")"
   ]
  },
  {
   "cell_type": "markdown",
   "id": "1ee2601b",
   "metadata": {},
   "source": [
    "### Función para crear modelo de sentimientos (basada en código de diabetes)\n",
    "\n",
    "**num_capas:** número de capas ocultas (1, 2, o 3)\n",
    "\n",
    "**neuronas_capa1:** número de neuronas en la primera capa oculta\n",
    "\n",
    "**neuronas_capa2:** número de neuronas en la segunda capa oculta\n",
    "\n",
    "**optimizer:** optimizador a usar ('adam', 'sgd', 'rmsprop')\n",
    "\n",
    "**activation:** función de activación ('relu', 'tanh', 'sigmoid')\n",
    "\n",
    "**dropout_rate:** tasa de dropout para regularización"
   ]
  },
  {
   "cell_type": "code",
   "execution_count": 31,
   "id": "1de71b19",
   "metadata": {},
   "outputs": [],
   "source": [
    "\n",
    "def crear_modelo_sentimientos(\n",
    "    num_capas=2,\n",
    "    neuronas_capa1=64,\n",
    "    neuronas_capa2=32,\n",
    "    optimizer=\"adam\",\n",
    "    activation=\"relu\",\n",
    "    dropout_rate=0.3,\n",
    "):\n",
    "    model = Sequential()\n",
    "\n",
    "    # Capa de embedding para representación de palabras\n",
    "    model.add(\n",
    "        Embedding(input_dim=MAX_WORDS, output_dim=50, input_length=MAX_SEQUENCE_LENGTH)\n",
    "    )\n",
    "\n",
    "    # Capa LSTM para capturar patrones secuenciales\n",
    "    model.add(LSTM(32, return_sequences=False))\n",
    "\n",
    "    # Primera capa densa (siempre presente)\n",
    "    model.add(Dense(neuronas_capa1, activation=activation))\n",
    "    model.add(Dropout(dropout_rate))\n",
    "\n",
    "    # Segunda capa (si num_capas >= 2)\n",
    "    if num_capas >= 2:\n",
    "        model.add(Dense(neuronas_capa2, activation=activation))\n",
    "        model.add(Dropout(dropout_rate))\n",
    "\n",
    "    # Tercera capa (si num_capas >= 3)\n",
    "    if num_capas >= 3:\n",
    "        model.add(Dense(neuronas_capa2 // 2, activation=activation))\n",
    "        model.add(Dropout(dropout_rate))\n",
    "\n",
    "    # Capa de salida (3 clases: positivo, negativo, neutro)\n",
    "    model.add(Dense(3, activation=\"softmax\"))\n",
    "\n",
    "    # Compilar el modelo\n",
    "    model.compile(\n",
    "        optimizer=optimizer, loss=\"categorical_crossentropy\", metrics=[\"accuracy\"]\n",
    "    )\n",
    "\n",
    "    return model"
   ]
  },
  {
   "cell_type": "markdown",
   "id": "970219d8",
   "metadata": {},
   "source": [
    "### Entrenamiento y evaluación del modelo\n",
    "\n",
    "Dividir datos en entrenamiento y prueba (similar a el codigo de la  diabetes)"
   ]
  },
  {
   "cell_type": "code",
   "execution_count": 32,
   "id": "c502bdd8",
   "metadata": {},
   "outputs": [
    {
     "name": "stdout",
     "output_type": "stream",
     "text": [
      "Datos de entrenamiento: (16, 50)\n",
      "Datos de prueba: (8, 50)\n"
     ]
    },
    {
     "name": "stderr",
     "output_type": "stream",
     "text": [
      "/home/ovelez/Documentos/cursos/Maestria/modulo1/ejerciciosPhyton/.venv/lib/python3.12/site-packages/keras/src/layers/core/embedding.py:97: UserWarning: Argument `input_length` is deprecated. Just remove it.\n",
      "  warnings.warn(\n"
     ]
    },
    {
     "data": {
      "text/html": [
       "<pre style=\"white-space:pre;overflow-x:auto;line-height:normal;font-family:Menlo,'DejaVu Sans Mono',consolas,'Courier New',monospace\"><span style=\"font-weight: bold\">Model: \"sequential_3\"</span>\n",
       "</pre>\n"
      ],
      "text/plain": [
       "\u001b[1mModel: \"sequential_3\"\u001b[0m\n"
      ]
     },
     "metadata": {},
     "output_type": "display_data"
    },
    {
     "data": {
      "text/html": [
       "<pre style=\"white-space:pre;overflow-x:auto;line-height:normal;font-family:Menlo,'DejaVu Sans Mono',consolas,'Courier New',monospace\">┏━━━━━━━━━━━━━━━━━━━━━━━━━━━━━━━━━┳━━━━━━━━━━━━━━━━━━━━━━━━┳━━━━━━━━━━━━━━━┓\n",
       "┃<span style=\"font-weight: bold\"> Layer (type)                    </span>┃<span style=\"font-weight: bold\"> Output Shape           </span>┃<span style=\"font-weight: bold\">       Param # </span>┃\n",
       "┡━━━━━━━━━━━━━━━━━━━━━━━━━━━━━━━━━╇━━━━━━━━━━━━━━━━━━━━━━━━╇━━━━━━━━━━━━━━━┩\n",
       "│ embedding_3 (<span style=\"color: #0087ff; text-decoration-color: #0087ff\">Embedding</span>)         │ ?                      │   <span style=\"color: #00af00; text-decoration-color: #00af00\">0</span> (unbuilt) │\n",
       "├─────────────────────────────────┼────────────────────────┼───────────────┤\n",
       "│ lstm_3 (<span style=\"color: #0087ff; text-decoration-color: #0087ff\">LSTM</span>)                   │ ?                      │   <span style=\"color: #00af00; text-decoration-color: #00af00\">0</span> (unbuilt) │\n",
       "├─────────────────────────────────┼────────────────────────┼───────────────┤\n",
       "│ dense_9 (<span style=\"color: #0087ff; text-decoration-color: #0087ff\">Dense</span>)                 │ ?                      │   <span style=\"color: #00af00; text-decoration-color: #00af00\">0</span> (unbuilt) │\n",
       "├─────────────────────────────────┼────────────────────────┼───────────────┤\n",
       "│ dropout_6 (<span style=\"color: #0087ff; text-decoration-color: #0087ff\">Dropout</span>)             │ ?                      │             <span style=\"color: #00af00; text-decoration-color: #00af00\">0</span> │\n",
       "├─────────────────────────────────┼────────────────────────┼───────────────┤\n",
       "│ dense_10 (<span style=\"color: #0087ff; text-decoration-color: #0087ff\">Dense</span>)                │ ?                      │   <span style=\"color: #00af00; text-decoration-color: #00af00\">0</span> (unbuilt) │\n",
       "├─────────────────────────────────┼────────────────────────┼───────────────┤\n",
       "│ dropout_7 (<span style=\"color: #0087ff; text-decoration-color: #0087ff\">Dropout</span>)             │ ?                      │             <span style=\"color: #00af00; text-decoration-color: #00af00\">0</span> │\n",
       "├─────────────────────────────────┼────────────────────────┼───────────────┤\n",
       "│ dense_11 (<span style=\"color: #0087ff; text-decoration-color: #0087ff\">Dense</span>)                │ ?                      │   <span style=\"color: #00af00; text-decoration-color: #00af00\">0</span> (unbuilt) │\n",
       "└─────────────────────────────────┴────────────────────────┴───────────────┘\n",
       "</pre>\n"
      ],
      "text/plain": [
       "┏━━━━━━━━━━━━━━━━━━━━━━━━━━━━━━━━━┳━━━━━━━━━━━━━━━━━━━━━━━━┳━━━━━━━━━━━━━━━┓\n",
       "┃\u001b[1m \u001b[0m\u001b[1mLayer (type)                   \u001b[0m\u001b[1m \u001b[0m┃\u001b[1m \u001b[0m\u001b[1mOutput Shape          \u001b[0m\u001b[1m \u001b[0m┃\u001b[1m \u001b[0m\u001b[1m      Param #\u001b[0m\u001b[1m \u001b[0m┃\n",
       "┡━━━━━━━━━━━━━━━━━━━━━━━━━━━━━━━━━╇━━━━━━━━━━━━━━━━━━━━━━━━╇━━━━━━━━━━━━━━━┩\n",
       "│ embedding_3 (\u001b[38;5;33mEmbedding\u001b[0m)         │ ?                      │   \u001b[38;5;34m0\u001b[0m (unbuilt) │\n",
       "├─────────────────────────────────┼────────────────────────┼───────────────┤\n",
       "│ lstm_3 (\u001b[38;5;33mLSTM\u001b[0m)                   │ ?                      │   \u001b[38;5;34m0\u001b[0m (unbuilt) │\n",
       "├─────────────────────────────────┼────────────────────────┼───────────────┤\n",
       "│ dense_9 (\u001b[38;5;33mDense\u001b[0m)                 │ ?                      │   \u001b[38;5;34m0\u001b[0m (unbuilt) │\n",
       "├─────────────────────────────────┼────────────────────────┼───────────────┤\n",
       "│ dropout_6 (\u001b[38;5;33mDropout\u001b[0m)             │ ?                      │             \u001b[38;5;34m0\u001b[0m │\n",
       "├─────────────────────────────────┼────────────────────────┼───────────────┤\n",
       "│ dense_10 (\u001b[38;5;33mDense\u001b[0m)                │ ?                      │   \u001b[38;5;34m0\u001b[0m (unbuilt) │\n",
       "├─────────────────────────────────┼────────────────────────┼───────────────┤\n",
       "│ dropout_7 (\u001b[38;5;33mDropout\u001b[0m)             │ ?                      │             \u001b[38;5;34m0\u001b[0m │\n",
       "├─────────────────────────────────┼────────────────────────┼───────────────┤\n",
       "│ dense_11 (\u001b[38;5;33mDense\u001b[0m)                │ ?                      │   \u001b[38;5;34m0\u001b[0m (unbuilt) │\n",
       "└─────────────────────────────────┴────────────────────────┴───────────────┘\n"
      ]
     },
     "metadata": {},
     "output_type": "display_data"
    },
    {
     "data": {
      "text/html": [
       "<pre style=\"white-space:pre;overflow-x:auto;line-height:normal;font-family:Menlo,'DejaVu Sans Mono',consolas,'Courier New',monospace\"><span style=\"font-weight: bold\"> Total params: </span><span style=\"color: #00af00; text-decoration-color: #00af00\">0</span> (0.00 B)\n",
       "</pre>\n"
      ],
      "text/plain": [
       "\u001b[1m Total params: \u001b[0m\u001b[38;5;34m0\u001b[0m (0.00 B)\n"
      ]
     },
     "metadata": {},
     "output_type": "display_data"
    },
    {
     "data": {
      "text/html": [
       "<pre style=\"white-space:pre;overflow-x:auto;line-height:normal;font-family:Menlo,'DejaVu Sans Mono',consolas,'Courier New',monospace\"><span style=\"font-weight: bold\"> Trainable params: </span><span style=\"color: #00af00; text-decoration-color: #00af00\">0</span> (0.00 B)\n",
       "</pre>\n"
      ],
      "text/plain": [
       "\u001b[1m Trainable params: \u001b[0m\u001b[38;5;34m0\u001b[0m (0.00 B)\n"
      ]
     },
     "metadata": {},
     "output_type": "display_data"
    },
    {
     "data": {
      "text/html": [
       "<pre style=\"white-space:pre;overflow-x:auto;line-height:normal;font-family:Menlo,'DejaVu Sans Mono',consolas,'Courier New',monospace\"><span style=\"font-weight: bold\"> Non-trainable params: </span><span style=\"color: #00af00; text-decoration-color: #00af00\">0</span> (0.00 B)\n",
       "</pre>\n"
      ],
      "text/plain": [
       "\u001b[1m Non-trainable params: \u001b[0m\u001b[38;5;34m0\u001b[0m (0.00 B)\n"
      ]
     },
     "metadata": {},
     "output_type": "display_data"
    }
   ],
   "source": [
    "X_train, X_test, y_train, y_test = train_test_split(\n",
    "    X_sentimientos,\n",
    "    y_sentimientos,\n",
    "    test_size=0.3,\n",
    "    random_state=42,\n",
    "    stratify=y_sentimientos,\n",
    ")\n",
    "\n",
    "print(f\"Datos de entrenamiento: {X_train.shape}\")\n",
    "print(f\"Datos de prueba: {X_test.shape}\")\n",
    "\n",
    "# Crear modelo\n",
    "modelo_sentimientos = crear_modelo_sentimientos(\n",
    "    num_capas=2,\n",
    "    neuronas_capa1=64,\n",
    "    neuronas_capa2=32,\n",
    "    optimizer=\"adam\",\n",
    "    activation=\"relu\",\n",
    ")\n",
    "\n",
    "# Resumen del modelo\n",
    "modelo_sentimientos.summary()"
   ]
  },
  {
   "cell_type": "markdown",
   "id": "c6c4d0c3",
   "metadata": {},
   "source": [
    "### Entrenamiento con Early Stopping\n",
    "\n",
    "Early stopping para evitar <sobreajuste> "
   ]
  },
  {
   "cell_type": "code",
   "execution_count": 33,
   "id": "bfbedbac",
   "metadata": {},
   "outputs": [
    {
     "name": "stdout",
     "output_type": "stream",
     "text": [
      "Entrenando modelo de análisis de sentimientos...\n",
      "Epoch 1/100\n",
      "\u001b[1m1/1\u001b[0m \u001b[32m━━━━━━━━━━━━━━━━━━━━\u001b[0m\u001b[37m\u001b[0m \u001b[1m2s\u001b[0m 2s/step - accuracy: 0.3750 - loss: 1.0961 - val_accuracy: 0.3750 - val_loss: 1.0926\n",
      "Epoch 2/100\n",
      "\u001b[1m1/1\u001b[0m \u001b[32m━━━━━━━━━━━━━━━━━━━━\u001b[0m\u001b[37m\u001b[0m \u001b[1m0s\u001b[0m 67ms/step - accuracy: 0.3125 - loss: 1.0894 - val_accuracy: 0.3750 - val_loss: 1.0897\n",
      "Epoch 3/100\n",
      "\u001b[1m1/1\u001b[0m \u001b[32m━━━━━━━━━━━━━━━━━━━━\u001b[0m\u001b[37m\u001b[0m \u001b[1m0s\u001b[0m 70ms/step - accuracy: 0.5000 - loss: 1.0840 - val_accuracy: 0.3750 - val_loss: 1.0861\n",
      "Epoch 4/100\n",
      "\u001b[1m1/1\u001b[0m \u001b[32m━━━━━━━━━━━━━━━━━━━━\u001b[0m\u001b[37m\u001b[0m \u001b[1m0s\u001b[0m 74ms/step - accuracy: 0.4375 - loss: 1.0799 - val_accuracy: 0.3750 - val_loss: 1.0815\n",
      "Epoch 5/100\n",
      "\u001b[1m1/1\u001b[0m \u001b[32m━━━━━━━━━━━━━━━━━━━━\u001b[0m\u001b[37m\u001b[0m \u001b[1m0s\u001b[0m 71ms/step - accuracy: 0.4375 - loss: 1.1005 - val_accuracy: 0.3750 - val_loss: 1.0775\n",
      "Epoch 6/100\n",
      "\u001b[1m1/1\u001b[0m \u001b[32m━━━━━━━━━━━━━━━━━━━━\u001b[0m\u001b[37m\u001b[0m \u001b[1m0s\u001b[0m 71ms/step - accuracy: 0.3125 - loss: 1.0794 - val_accuracy: 0.3750 - val_loss: 1.0732\n",
      "Epoch 7/100\n",
      "\u001b[1m1/1\u001b[0m \u001b[32m━━━━━━━━━━━━━━━━━━━━\u001b[0m\u001b[37m\u001b[0m \u001b[1m0s\u001b[0m 75ms/step - accuracy: 0.4375 - loss: 1.0827 - val_accuracy: 0.3750 - val_loss: 1.0688\n",
      "Epoch 8/100\n",
      "\u001b[1m1/1\u001b[0m \u001b[32m━━━━━━━━━━━━━━━━━━━━\u001b[0m\u001b[37m\u001b[0m \u001b[1m0s\u001b[0m 74ms/step - accuracy: 0.3125 - loss: 1.0679 - val_accuracy: 0.5000 - val_loss: 1.0635\n",
      "Epoch 9/100\n",
      "\u001b[1m1/1\u001b[0m \u001b[32m━━━━━━━━━━━━━━━━━━━━\u001b[0m\u001b[37m\u001b[0m \u001b[1m0s\u001b[0m 71ms/step - accuracy: 0.4375 - loss: 1.0633 - val_accuracy: 0.5000 - val_loss: 1.0574\n",
      "Epoch 10/100\n",
      "\u001b[1m1/1\u001b[0m \u001b[32m━━━━━━━━━━━━━━━━━━━━\u001b[0m\u001b[37m\u001b[0m \u001b[1m0s\u001b[0m 73ms/step - accuracy: 0.3125 - loss: 1.0701 - val_accuracy: 0.5000 - val_loss: 1.0511\n",
      "Epoch 11/100\n",
      "\u001b[1m1/1\u001b[0m \u001b[32m━━━━━━━━━━━━━━━━━━━━\u001b[0m\u001b[37m\u001b[0m \u001b[1m0s\u001b[0m 68ms/step - accuracy: 0.5000 - loss: 1.0730 - val_accuracy: 0.5000 - val_loss: 1.0450\n",
      "Epoch 12/100\n",
      "\u001b[1m1/1\u001b[0m \u001b[32m━━━━━━━━━━━━━━━━━━━━\u001b[0m\u001b[37m\u001b[0m \u001b[1m0s\u001b[0m 67ms/step - accuracy: 0.3125 - loss: 1.0633 - val_accuracy: 0.5000 - val_loss: 1.0388\n",
      "Epoch 13/100\n",
      "\u001b[1m1/1\u001b[0m \u001b[32m━━━━━━━━━━━━━━━━━━━━\u001b[0m\u001b[37m\u001b[0m \u001b[1m0s\u001b[0m 71ms/step - accuracy: 0.5000 - loss: 1.0728 - val_accuracy: 0.5000 - val_loss: 1.0329\n",
      "Epoch 14/100\n",
      "\u001b[1m1/1\u001b[0m \u001b[32m━━━━━━━━━━━━━━━━━━━━\u001b[0m\u001b[37m\u001b[0m \u001b[1m0s\u001b[0m 69ms/step - accuracy: 0.4375 - loss: 1.0407 - val_accuracy: 0.5000 - val_loss: 1.0267\n",
      "Epoch 15/100\n",
      "\u001b[1m1/1\u001b[0m \u001b[32m━━━━━━━━━━━━━━━━━━━━\u001b[0m\u001b[37m\u001b[0m \u001b[1m0s\u001b[0m 67ms/step - accuracy: 0.3125 - loss: 1.0866 - val_accuracy: 0.5000 - val_loss: 1.0218\n",
      "Epoch 16/100\n",
      "\u001b[1m1/1\u001b[0m \u001b[32m━━━━━━━━━━━━━━━━━━━━\u001b[0m\u001b[37m\u001b[0m \u001b[1m0s\u001b[0m 68ms/step - accuracy: 0.3750 - loss: 1.0989 - val_accuracy: 0.5000 - val_loss: 1.0184\n",
      "Epoch 17/100\n",
      "\u001b[1m1/1\u001b[0m \u001b[32m━━━━━━━━━━━━━━━━━━━━\u001b[0m\u001b[37m\u001b[0m \u001b[1m0s\u001b[0m 68ms/step - accuracy: 0.2500 - loss: 1.1184 - val_accuracy: 0.5000 - val_loss: 1.0169\n",
      "Epoch 18/100\n",
      "\u001b[1m1/1\u001b[0m \u001b[32m━━━━━━━━━━━━━━━━━━━━\u001b[0m\u001b[37m\u001b[0m \u001b[1m0s\u001b[0m 74ms/step - accuracy: 0.5000 - loss: 1.0527 - val_accuracy: 0.5000 - val_loss: 1.0156\n",
      "Epoch 19/100\n",
      "\u001b[1m1/1\u001b[0m \u001b[32m━━━━━━━━━━━━━━━━━━━━\u001b[0m\u001b[37m\u001b[0m \u001b[1m0s\u001b[0m 68ms/step - accuracy: 0.4375 - loss: 1.0327 - val_accuracy: 0.5000 - val_loss: 1.0136\n",
      "Epoch 20/100\n",
      "\u001b[1m1/1\u001b[0m \u001b[32m━━━━━━━━━━━━━━━━━━━━\u001b[0m\u001b[37m\u001b[0m \u001b[1m0s\u001b[0m 68ms/step - accuracy: 0.4375 - loss: 1.0643 - val_accuracy: 0.5000 - val_loss: 1.0119\n",
      "Epoch 21/100\n",
      "\u001b[1m1/1\u001b[0m \u001b[32m━━━━━━━━━━━━━━━━━━━━\u001b[0m\u001b[37m\u001b[0m \u001b[1m0s\u001b[0m 67ms/step - accuracy: 0.4375 - loss: 1.0506 - val_accuracy: 0.5000 - val_loss: 1.0101\n",
      "Epoch 22/100\n",
      "\u001b[1m1/1\u001b[0m \u001b[32m━━━━━━━━━━━━━━━━━━━━\u001b[0m\u001b[37m\u001b[0m \u001b[1m0s\u001b[0m 80ms/step - accuracy: 0.4375 - loss: 1.0651 - val_accuracy: 0.5000 - val_loss: 1.0087\n",
      "Epoch 23/100\n",
      "\u001b[1m1/1\u001b[0m \u001b[32m━━━━━━━━━━━━━━━━━━━━\u001b[0m\u001b[37m\u001b[0m \u001b[1m0s\u001b[0m 71ms/step - accuracy: 0.3750 - loss: 1.0211 - val_accuracy: 0.5000 - val_loss: 1.0066\n",
      "Epoch 24/100\n",
      "\u001b[1m1/1\u001b[0m \u001b[32m━━━━━━━━━━━━━━━━━━━━\u001b[0m\u001b[37m\u001b[0m \u001b[1m0s\u001b[0m 73ms/step - accuracy: 0.3750 - loss: 1.0893 - val_accuracy: 0.5000 - val_loss: 1.0057\n",
      "Epoch 25/100\n",
      "\u001b[1m1/1\u001b[0m \u001b[32m━━━━━━━━━━━━━━━━━━━━\u001b[0m\u001b[37m\u001b[0m \u001b[1m0s\u001b[0m 69ms/step - accuracy: 0.3750 - loss: 1.0686 - val_accuracy: 0.5000 - val_loss: 1.0053\n",
      "Epoch 26/100\n",
      "\u001b[1m1/1\u001b[0m \u001b[32m━━━━━━━━━━━━━━━━━━━━\u001b[0m\u001b[37m\u001b[0m \u001b[1m0s\u001b[0m 69ms/step - accuracy: 0.5000 - loss: 1.0156 - val_accuracy: 0.5000 - val_loss: 1.0042\n",
      "Epoch 27/100\n",
      "\u001b[1m1/1\u001b[0m \u001b[32m━━━━━━━━━━━━━━━━━━━━\u001b[0m\u001b[37m\u001b[0m \u001b[1m0s\u001b[0m 69ms/step - accuracy: 0.5000 - loss: 1.0171 - val_accuracy: 0.5000 - val_loss: 1.0023\n",
      "Epoch 28/100\n",
      "\u001b[1m1/1\u001b[0m \u001b[32m━━━━━━━━━━━━━━━━━━━━\u001b[0m\u001b[37m\u001b[0m \u001b[1m0s\u001b[0m 69ms/step - accuracy: 0.3750 - loss: 1.0811 - val_accuracy: 0.5000 - val_loss: 1.0012\n",
      "Epoch 29/100\n",
      "\u001b[1m1/1\u001b[0m \u001b[32m━━━━━━━━━━━━━━━━━━━━\u001b[0m\u001b[37m\u001b[0m \u001b[1m0s\u001b[0m 77ms/step - accuracy: 0.3125 - loss: 1.1084 - val_accuracy: 0.5000 - val_loss: 1.0012\n",
      "Epoch 30/100\n",
      "\u001b[1m1/1\u001b[0m \u001b[32m━━━━━━━━━━━━━━━━━━━━\u001b[0m\u001b[37m\u001b[0m \u001b[1m0s\u001b[0m 75ms/step - accuracy: 0.4375 - loss: 1.0410 - val_accuracy: 0.5000 - val_loss: 1.0009\n",
      "Epoch 31/100\n",
      "\u001b[1m1/1\u001b[0m \u001b[32m━━━━━━━━━━━━━━━━━━━━\u001b[0m\u001b[37m\u001b[0m \u001b[1m0s\u001b[0m 83ms/step - accuracy: 0.4375 - loss: 1.0297 - val_accuracy: 0.5000 - val_loss: 1.0002\n",
      "Epoch 32/100\n",
      "\u001b[1m1/1\u001b[0m \u001b[32m━━━━━━━━━━━━━━━━━━━━\u001b[0m\u001b[37m\u001b[0m \u001b[1m0s\u001b[0m 75ms/step - accuracy: 0.5000 - loss: 1.0207 - val_accuracy: 0.5000 - val_loss: 0.9991\n",
      "Epoch 33/100\n",
      "\u001b[1m1/1\u001b[0m \u001b[32m━━━━━━━━━━━━━━━━━━━━\u001b[0m\u001b[37m\u001b[0m \u001b[1m0s\u001b[0m 78ms/step - accuracy: 0.2500 - loss: 1.0986 - val_accuracy: 0.5000 - val_loss: 0.9989\n",
      "Epoch 34/100\n",
      "\u001b[1m1/1\u001b[0m \u001b[32m━━━━━━━━━━━━━━━━━━━━\u001b[0m\u001b[37m\u001b[0m \u001b[1m0s\u001b[0m 79ms/step - accuracy: 0.5000 - loss: 1.0317 - val_accuracy: 0.5000 - val_loss: 0.9985\n",
      "Epoch 35/100\n",
      "\u001b[1m1/1\u001b[0m \u001b[32m━━━━━━━━━━━━━━━━━━━━\u001b[0m\u001b[37m\u001b[0m \u001b[1m0s\u001b[0m 68ms/step - accuracy: 0.3750 - loss: 1.0695 - val_accuracy: 0.5000 - val_loss: 0.9988\n",
      "Epoch 36/100\n",
      "\u001b[1m1/1\u001b[0m \u001b[32m━━━━━━━━━━━━━━━━━━━━\u001b[0m\u001b[37m\u001b[0m \u001b[1m0s\u001b[0m 68ms/step - accuracy: 0.5000 - loss: 1.0930 - val_accuracy: 0.5000 - val_loss: 0.9998\n",
      "Epoch 37/100\n",
      "\u001b[1m1/1\u001b[0m \u001b[32m━━━━━━━━━━━━━━━━━━━━\u001b[0m\u001b[37m\u001b[0m \u001b[1m0s\u001b[0m 75ms/step - accuracy: 0.5000 - loss: 1.0619 - val_accuracy: 0.5000 - val_loss: 1.0010\n",
      "Epoch 38/100\n",
      "\u001b[1m1/1\u001b[0m \u001b[32m━━━━━━━━━━━━━━━━━━━━\u001b[0m\u001b[37m\u001b[0m \u001b[1m0s\u001b[0m 75ms/step - accuracy: 0.5625 - loss: 1.0583 - val_accuracy: 0.5000 - val_loss: 1.0024\n",
      "Epoch 39/100\n",
      "\u001b[1m1/1\u001b[0m \u001b[32m━━━━━━━━━━━━━━━━━━━━\u001b[0m\u001b[37m\u001b[0m \u001b[1m0s\u001b[0m 79ms/step - accuracy: 0.5000 - loss: 1.0370 - val_accuracy: 0.5000 - val_loss: 1.0033\n",
      "Epoch 40/100\n",
      "\u001b[1m1/1\u001b[0m \u001b[32m━━━━━━━━━━━━━━━━━━━━\u001b[0m\u001b[37m\u001b[0m \u001b[1m0s\u001b[0m 83ms/step - accuracy: 0.2500 - loss: 1.0894 - val_accuracy: 0.5000 - val_loss: 1.0045\n",
      "Epoch 41/100\n",
      "\u001b[1m1/1\u001b[0m \u001b[32m━━━━━━━━━━━━━━━━━━━━\u001b[0m\u001b[37m\u001b[0m \u001b[1m0s\u001b[0m 77ms/step - accuracy: 0.3750 - loss: 1.0475 - val_accuracy: 0.5000 - val_loss: 1.0057\n",
      "Epoch 42/100\n",
      "\u001b[1m1/1\u001b[0m \u001b[32m━━━━━━━━━━━━━━━━━━━━\u001b[0m\u001b[37m\u001b[0m \u001b[1m0s\u001b[0m 70ms/step - accuracy: 0.3125 - loss: 1.0674 - val_accuracy: 0.5000 - val_loss: 1.0070\n",
      "Epoch 43/100\n",
      "\u001b[1m1/1\u001b[0m \u001b[32m━━━━━━━━━━━━━━━━━━━━\u001b[0m\u001b[37m\u001b[0m \u001b[1m0s\u001b[0m 77ms/step - accuracy: 0.3750 - loss: 1.0617 - val_accuracy: 0.5000 - val_loss: 1.0082\n",
      "Epoch 44/100\n",
      "\u001b[1m1/1\u001b[0m \u001b[32m━━━━━━━━━━━━━━━━━━━━\u001b[0m\u001b[37m\u001b[0m \u001b[1m0s\u001b[0m 71ms/step - accuracy: 0.3750 - loss: 1.0276 - val_accuracy: 0.5000 - val_loss: 1.0087\n"
     ]
    }
   ],
   "source": [
    "\n",
    "early_stopping = tf.keras.callbacks.EarlyStopping(\n",
    "    patience=10, monitor=\"val_loss\", restore_best_weights=True\n",
    ")\n",
    "\n",
    "# Entrenar el modelo\n",
    "print(\"Entrenando modelo de análisis de sentimientos...\")\n",
    "history = modelo_sentimientos.fit(\n",
    "    X_train,\n",
    "    y_train,\n",
    "    epochs=100,\n",
    "    batch_size=16,\n",
    "    validation_data=(X_test, y_test),\n",
    "    callbacks=[early_stopping],\n",
    "    verbose=1,\n",
    ")\n"
   ]
  },
  {
   "cell_type": "markdown",
   "id": "42b1b659",
   "metadata": {},
   "source": [
    "### Evaluacion del modelo\n",
    "\n",
    "Evaluación (similar a código de diabetes)"
   ]
  },
  {
   "cell_type": "code",
   "execution_count": 38,
   "id": "ac1a96ba",
   "metadata": {},
   "outputs": [
    {
     "name": "stdout",
     "output_type": "stream",
     "text": [
      "Precisión en entrenamiento: 43.75%\n",
      "Precisión en prueba: 50.00%\n",
      "Diferencia (overfitting): -6.25%\n"
     ]
    }
   ],
   "source": [
    "train_scores = modelo_sentimientos.evaluate(X_train, y_train, verbose=0)\n",
    "test_scores = modelo_sentimientos.evaluate(X_test, y_test, verbose=0)\n",
    "\n",
    "print(f\"Precisión en entrenamiento: {train_scores[1] * 100:.2f}%\")\n",
    "print(f\"Precisión en prueba: {test_scores[1] * 100:.2f}%\")\n",
    "print(f\"Diferencia (overfitting): {(train_scores[1] - test_scores[1]) * 100:.2f}%\")"
   ]
  },
  {
   "cell_type": "markdown",
   "id": "91fce9cd",
   "metadata": {},
   "source": [
    "# 🚀 Análisis Critico \n",
    "\n",
    "\n",
    "Con los datos de evaluación del modelo se puede concluir que:\n",
    "\n",
    "\n",
    "- La precisión del entrenamiento es **BAJA** (43.75%), el modelo si está aprendiendo pero no lo suficiente.\n",
    "- La diferencia negativa (-6.25), indica que el modelo no está memorizando, pero también muestra que no está aprendiendo lo suficiente.\n",
    "\n",
    "\n",
    "Esto se debe a que los datos de pruebas son limitados en número.\n",
    "Los datos están desbalanceados, como se ve en gráfico de *Distribución de Sentimientos* donde el neutro está de 6 mientras los otros dos sentimientos están en cercanos a 9\n",
    "\n",
    "\n",
    "## ✅ Por lo que se sugiere:\n",
    "\n",
    "\n",
    "- Aumentar el Set de datos utilizados\n",
    "- Mejorar los hiperparámetros para mejorar el modelo, esto hay que ir ajustando según los datos nuevos se vayan incrementando\n",
    "- Agrupar las emociones, es decir que el sentimiento positivo engloba a contento, alegre, feliz, etc. y así con los otros elementos lo que da una mejor argumentación\n",
    "\n",
    "\n",
    "## ⚠️ Restricción \n",
    "\n",
    "\n",
    "- La adquisición de nuevos set de datos puede depender de un proyecto completo de rastreo de mensajes y comentarios en redes sociales y esto requiere de un proyecto de scraping para tener una data más real y verídica, y esta debe tener un tratamiento para identificar otros patrones idiomáticos y de composición gramatical, coloquial o de contexto que no puedo analizar con el Kit de Herramientas de Lenguaje Natural\n"
   ]
  },
  {
   "cell_type": "markdown",
   "id": "8f0c7245",
   "metadata": {},
   "source": [
    "---\n",
    "\n",
    "### Función para predecir sentimientos\n",
    "\n",
    "Este ejemplo esta basado en mi trabajo de la diabetes"
   ]
  },
  {
   "cell_type": "code",
   "execution_count": 39,
   "id": "cd174305",
   "metadata": {},
   "outputs": [],
   "source": [
    "def predecir_sentimiento(texto, modelo, tokenizer, label_encoder):\n",
    "    # Limpiar el texto\n",
    "    texto_limpio = limpiar_texto(texto)\n",
    "\n",
    "    # Convertir a secuencia\n",
    "    secuencia = tokenizer.texts_to_sequences([texto_limpio])\n",
    "    secuencia_padded = pad_sequences(\n",
    "        secuencia, maxlen=MAX_SEQUENCE_LENGTH, padding=\"post\"\n",
    "    )\n",
    "\n",
    "    # Hacer predicción\n",
    "    prediccion = modelo.predict(secuencia_padded, verbose=0)\n",
    "\n",
    "    # Obtener la clase con mayor probabilidad\n",
    "    clase_predicha = np.argmax(prediccion[0])\n",
    "    confianza = np.max(prediccion[0])\n",
    "\n",
    "    # Decodificar la etiqueta\n",
    "    sentimiento = label_encoder.inverse_transform([clase_predicha])[0]\n",
    "\n",
    "    return sentimiento, confianza, prediccion[0]"
   ]
  },
  {
   "cell_type": "markdown",
   "id": "ce9cf59d",
   "metadata": {},
   "source": [
    "### Prueba del modelo con mensajes \n",
    "\n",
    "Creo un arreglo con unos mesajes para probar mi modelo"
   ]
  },
  {
   "cell_type": "code",
   "execution_count": 40,
   "id": "9bfdccda",
   "metadata": {},
   "outputs": [
    {
     "name": "stdout",
     "output_type": "stream",
     "text": [
      "\n",
      "Texto: 'Me siento increíblemente feliz hoy'\n",
      "Sentimiento predicho: negativo\n",
      "Confianza: 43.28%\n",
      "Probabilidades -> Negativo: 0.433, Neutro: 0.207, Positivo: 0.360\n",
      "\n",
      "Texto: 'Estoy muy triste y deprimido'\n",
      "Sentimiento predicho: negativo\n",
      "Confianza: 43.28%\n",
      "Probabilidades -> Negativo: 0.433, Neutro: 0.207, Positivo: 0.360\n",
      "\n",
      "Texto: 'hoy es un gran dia para morir'\n",
      "Sentimiento predicho: negativo\n",
      "Confianza: 43.28%\n",
      "Probabilidades -> Negativo: 0.433, Neutro: 0.207, Positivo: 0.360\n",
      "\n",
      "Texto: 'el caminio asi es'\n",
      "Sentimiento predicho: negativo\n",
      "Confianza: 43.28%\n",
      "Probabilidades -> Negativo: 0.433, Neutro: 0.207, Positivo: 0.360\n",
      "\n",
      "Texto: 'que buen chiste'\n",
      "Sentimiento predicho: negativo\n",
      "Confianza: 43.28%\n",
      "Probabilidades -> Negativo: 0.433, Neutro: 0.207, Positivo: 0.360\n"
     ]
    }
   ],
   "source": [
    "# Ejemplos de predicción\n",
    "textos_prueba = [\n",
    "    \"Me siento increíblemente feliz hoy\",\n",
    "    \"Estoy muy triste y deprimido\",\n",
    "    \"hoy es un gran dia para morir\",\n",
    "    \"el caminio asi es\",\n",
    "    \"que buen chiste\",\n",
    "]\n",
    "\n",
    "for texto in textos_prueba:\n",
    "    sentimiento, confianza, probabilidades = predecir_sentimiento(\n",
    "        texto, modelo_sentimientos, tokenizer, label_encoder\n",
    "    )\n",
    "    print(f\"\\nTexto: '{texto}'\")\n",
    "    print(f\"Sentimiento predicho: {sentimiento}\")\n",
    "    print(f\"Confianza: {confianza * 100:.2f}%\")\n",
    "    print(\n",
    "        f\"Probabilidades -> Negativo: {probabilidades[0]:.3f}, Neutro: {probabilidades[1]:.3f}, Positivo: {probabilidades[2]:.3f}\"\n",
    "    )"
   ]
  },
  {
   "cell_type": "markdown",
   "id": "9ee182ee",
   "metadata": {},
   "source": [
    "### Genera los archivos de token y label para el modelo\n",
    "\n",
    "Archivos necesarios para ejecutar el modelo.\n"
   ]
  },
  {
   "cell_type": "code",
   "execution_count": 41,
   "id": "e1f37e4e",
   "metadata": {},
   "outputs": [
    {
     "name": "stdout",
     "output_type": "stream",
     "text": [
      "Modelo y preprocesadores guardados exitosamente\n"
     ]
    }
   ],
   "source": [
    "# Guardar el modelo (como en tu código de diabetes)\n",
    "modelo_sentimientos.save(\"modelo_sentimientos.keras\")\n",
    "\n",
    "# Guardar también el tokenizer y label_encoder\n",
    "import pickle\n",
    "\n",
    "with open(\"tokenizer_sentimientos.pkl\", \"wb\") as f:\n",
    "    pickle.dump(tokenizer, f)\n",
    "\n",
    "with open(\"label_encoder_sentimientos.pkl\", \"wb\") as f:\n",
    "    pickle.dump(label_encoder, f)\n",
    "\n",
    "print(\"Modelo y preprocesadores guardados exitosamente\")"
   ]
  },
  {
   "cell_type": "markdown",
   "id": "811850e7",
   "metadata": {},
   "source": [
    "# Propuesta de Valor\n",
    "\n",
    "La propuesta de valor de esta red neuronal radica en su capacidad para analizar automáticamente el sentimiento de los mensajes y comentarios en publicaciones de redes sociales. \n",
    "\n",
    "Esto permite conocer el clima social y de mercado y la percepción pública en tiempo real, para la toma de decisiones estratégicas para campañas, gestión de reputación, comunicación efectiva, y; en publicaciones de marketing. Tanto del cliente, mercado y de los posibles competidores.\n",
    "\n",
    "\n",
    "**El futuro de características que permiten su explotación en diversas áreas, como sociales, comerciales, políticas y de percepción pública**\n",
    "\n",
    "Al integrarse con técnicas de web scraping (robots de recopilación de datos de la web). El sistema puede recopilar grandes volúmenes de datos de manera automatizada, proporcionando análisis detallados y tendencias sobre la recepción de mensajes, opiniones y emociones basados en las expresadas por los usuarios en los segmentos de comentarios. \n",
    "\n",
    "Esta solución es escalable y adaptable a diferentes plataformas, optimizando el monitoreo y la respuesta ante cambios en el sentimiento social y de mercado.\n",
    "\n",
    "---\n",
    "\n",
    "## 🇨🇳 Comparación entre la Red Neuronal y DeepSeek\n",
    "\n",
    "La comparación entre la red neuronal y la IA de DeepSeek es sumamente importante para testear que el modelo se va ejecutando cada vez más próximo a tener un entrenamiento cierto y puede darse una solución más eficaz en tiempos y precisión.\n",
    "\n",
    "### EL PROMT\n",
    "\n",
    "**Analiza la siguiente frase, si es positiva, negativa o neutral, informando además una estadística de la precisión de tu análisis, respondiendo solo una palabra y el porcentaje de la precisión. La frase es: '#FRASE'\"**\n",
    "\n",
    "### ¡Sí, gano DeepSeek!\n",
    "\n",
    "> Nota:\n",
    "> Recuerde que se usa la API pagada y se presenta un **PROMT** base para el análisis\n",
    "\n",
    "---\n",
    "\n",
    "¡Gracias!"
   ]
  }
 ],
 "metadata": {
  "kernelspec": {
   "display_name": ".venv",
   "language": "python",
   "name": "python3"
  },
  "language_info": {
   "codemirror_mode": {
    "name": "ipython",
    "version": 3
   },
   "file_extension": ".py",
   "mimetype": "text/x-python",
   "name": "python",
   "nbconvert_exporter": "python",
   "pygments_lexer": "ipython3",
   "version": "3.12.3"
  }
 },
 "nbformat": 4,
 "nbformat_minor": 5
}
